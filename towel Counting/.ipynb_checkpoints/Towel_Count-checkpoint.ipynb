{
 "cells": [
  {
   "cell_type": "code",
   "execution_count": 1,
   "metadata": {},
   "outputs": [],
   "source": [
    "import cv2\n",
    "import numpy as np \n"
   ]
  },
  {
   "cell_type": "code",
   "execution_count": 46,
   "metadata": {},
   "outputs": [],
   "source": [
    "class detect_towel:\n",
    "    \n",
    "    cnt_towels = 0\n",
    "    \n",
    "    def __init__(self):\n",
    "        pass\n",
    "    \n",
    "    def detect_img(self,img):\n",
    "        \n",
    "        imgray = cv2.cvtColor(img, cv2.COLOR_BGR2GRAY)\n",
    "        ret, thresh = cv2.threshold(imgray, 157, 255, 0)\n",
    "        contours, hierarchy = cv2.findContours(thresh, cv2.RETR_TREE, cv2.CHAIN_APPROX_SIMPLE)        \n",
    "        \n",
    "        for cnt in contours:\n",
    "            \n",
    "            #Finds Area of the Contour\n",
    "            area = cv2.contourArea(cnt)\n",
    "\n",
    "            if(area>700 and area<5000):\n",
    "\n",
    "                peri = cv2.arcLength(cnt, True)\n",
    "                approx = cv2.approxPolyDP(cnt, 0.0495* peri, True)\n",
    "\n",
    "                if(len(approx) == 4):\n",
    "                    self.cnt_towels+=1\n",
    "                    \n",
    "                    \n",
    "    #Returns total count of towels                \n",
    "    def total_count(self):\n",
    "        return self.cnt_towels\n",
    "        "
   ]
  },
  {
   "cell_type": "code",
   "execution_count": 47,
   "metadata": {},
   "outputs": [],
   "source": [
    "cap  = cv2.VideoCapture('test.mp4')\n",
    "detect = detect_towel()\n",
    "\n",
    "while True:\n",
    "    ret, img = cap.read();\n",
    "    if(ret):\n",
    "        detect.detect_img(img)\n",
    "\n",
    "    else:\n",
    "        break\n",
    "        \n",
    "            \n",
    "cap.release()\n"
   ]
  },
  {
   "cell_type": "code",
   "execution_count": 48,
   "metadata": {},
   "outputs": [
    {
     "name": "stdout",
     "output_type": "stream",
     "text": [
      "No no of towels : 285\n"
     ]
    }
   ],
   "source": [
    "print(\"No no of towels :\",detect.total_count())"
   ]
  }
 ],
 "metadata": {
  "kernelspec": {
   "display_name": "Python 3",
   "language": "python",
   "name": "python3"
  },
  "language_info": {
   "codemirror_mode": {
    "name": "ipython",
    "version": 3
   },
   "file_extension": ".py",
   "mimetype": "text/x-python",
   "name": "python",
   "nbconvert_exporter": "python",
   "pygments_lexer": "ipython3",
   "version": "3.8.3"
  }
 },
 "nbformat": 4,
 "nbformat_minor": 4
}
